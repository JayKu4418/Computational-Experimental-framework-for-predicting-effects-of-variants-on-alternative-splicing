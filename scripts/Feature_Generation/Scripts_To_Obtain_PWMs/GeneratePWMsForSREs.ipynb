{
 "cells": [
  {
   "cell_type": "markdown",
   "metadata": {},
   "source": [
    "# Steps for generating PWMs for SREs"
   ]
  },
  {
   "cell_type": "markdown",
   "metadata": {},
   "source": [
    "## calculate dissimilarity scores between all the motifs for each category of SRE -> we will use the dissimilarity score between the motifs to cluster"
   ]
  },
  {
   "cell_type": "code",
   "execution_count": null,
   "metadata": {},
   "outputs": [],
   "source": [
    "python3 calculateDissimilarityScoresBetweenAllMotifs.py -t ../../tmp/PWMsForSREs/ -m ESE\n",
    "python3 calculateDissimilarityScoresBetweenAllMotifs.py -t ../../tmp/PWMsForSREs/ -m ESS\n",
    "python3 calculateDissimilarityScoresBetweenAllMotifs.py -t ../../tmp/PWMsForSREs/ -m ISE\n",
    "python3 calculateDissimilarityScoresBetweenAllMotifs.py -t ../../tmp/PWMsForSREs/ -m ISS"
   ]
  },
  {
   "cell_type": "markdown",
   "metadata": {},
   "source": [
    "## cluster the motifs using the dissmilarity score "
   ]
  },
  {
   "cell_type": "code",
   "execution_count": null,
   "metadata": {},
   "outputs": [],
   "source": [
    "python3 getClustersFromDissimilarityScoresOfMotif_AlignSeqInClusters.py -t ../../tmp/PWMsForSREs/ -m ESE -l 3.9\n",
    "python3 getClustersFromDissimilarityScoresOfMotif_AlignSeqInClusters.py -t ../../tmp/PWMsForSREs/ -m ESS -l 3.8\n",
    "python3 getClustersFromDissimilarityScoresOfMotif_AlignSeqInClusters.py -t ../../tmp/PWMsForSREs/ -m ISE -l 3.4\n",
    "python3 getClustersFromDissimilarityScoresOfMotif_AlignSeqInClusters.py -t ../../tmp/PWMsForSREs/ -m ISS -l 4.4"
   ]
  },
  {
   "cell_type": "code",
   "execution_count": null,
   "metadata": {},
   "outputs": [],
   "source": [
    "mkdir ESEClusters \n",
    "mv ESE_* ESEClusters \n",
    "\n",
    "mkdir ESSClusters \n",
    "mv ESS_* ESSClusters\n",
    "\n",
    "mkdir ISEClusters \n",
    "mv ISE_* ISEClusters\n",
    "\n",
    "mkdir ISSClusters \n",
    "mv ISS_* ISSClusters"
   ]
  },
  {
   "cell_type": "markdown",
   "metadata": {},
   "source": [
    "## Calculate PWMs for each cluster of SRE category"
   ]
  },
  {
   "cell_type": "code",
   "execution_count": null,
   "metadata": {},
   "outputs": [],
   "source": [
    "python3 calculatePMW_SREmotifs.py -t ../../tmp/PWMsForSREs/ -m ESE -n 8\n",
    "python3 calculatePMW_SREmotifs.py -t ../../tmp/PWMsForSREs/ -m ESS -n 7\n",
    "python3 calculatePMW_SREmotifs.py -t ../../tmp/PWMsForSREs/ -m ISE -n 7\n",
    "python3 calculatePMW_SREmotifs.py -t ../../tmp/PWMsForSREs/ -m ISS -n 8"
   ]
  },
  {
   "cell_type": "markdown",
   "metadata": {},
   "source": [
    "## Generate scores for all possible kmers using the PWMs generated"
   ]
  },
  {
   "cell_type": "code",
   "execution_count": null,
   "metadata": {},
   "outputs": [],
   "source": [
    "python3 calculateSREscores_allPossibleKmers.py -t ../../tmp/PWMsForSREs/ -m ESE -n 8\n",
    "python3 calculateSREscores_allPossibleKmers.py -t ../../tmp/PWMsForSREs/ -m ESS -n 7\n",
    "python3 calculateSREscores_allPossibleKmers.py -t ../../tmp/PWMsForSREs/ -m ISE -n 7\n",
    "python3 calculateSREscores_allPossibleKmers.py -t ../../tmp/PWMsForSREs/ -m ISS -n 8"
   ]
  }
 ],
 "metadata": {
  "kernelspec": {
   "display_name": "Python 3",
   "language": "python",
   "name": "python3"
  },
  "language_info": {
   "codemirror_mode": {
    "name": "ipython",
    "version": 3
   },
   "file_extension": ".py",
   "mimetype": "text/x-python",
   "name": "python",
   "nbconvert_exporter": "python",
   "pygments_lexer": "ipython3",
   "version": "3.6.9"
  }
 },
 "nbformat": 4,
 "nbformat_minor": 2
}
