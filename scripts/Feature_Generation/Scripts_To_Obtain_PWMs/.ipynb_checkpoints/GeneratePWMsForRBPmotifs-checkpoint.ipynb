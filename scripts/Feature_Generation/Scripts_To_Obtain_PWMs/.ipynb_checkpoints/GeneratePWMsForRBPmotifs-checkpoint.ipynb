{
 "cells": [
  {
   "cell_type": "code",
   "execution_count": 5,
   "metadata": {},
   "outputs": [],
   "source": [
    "import pandas as pd\n",
    "import numpy as np"
   ]
  },
  {
   "cell_type": "markdown",
   "metadata": {},
   "source": [
    "### Convert PFMs from RBP compendium to PWMs"
   ]
  },
  {
   "cell_type": "code",
   "execution_count": 2,
   "metadata": {},
   "outputs": [
    {
     "data": {
      "text/plain": [
       "[['RNCMPT00106', 'ENSG00000136450', 'SRSF1', 'Homo_sapiens'],\n",
       " ['RNCMPT00107', 'ENSG00000136450', 'SRSF1', 'Homo_sapiens']]"
      ]
     },
     "execution_count": 2,
     "metadata": {},
     "output_type": "execute_result"
    }
   ],
   "source": [
    "#Obtain RBP compendium ids for MAPT RBPs\n",
    "with open(\"../../data/RBPcompendium_IDs_MAPT_RBPs.tsv\") as f:\n",
    "    mapt_rbps_ids = [line.strip().split(\"\\t\") for line in f]\n",
    "mapt_rbps_ids[0:2]"
   ]
  },
  {
   "cell_type": "code",
   "execution_count": 3,
   "metadata": {},
   "outputs": [],
   "source": [
    "# Format a float number to have 3 decimal places\n",
    "def format(value):\n",
    "    return \"%.3f\" % value"
   ]
  },
  {
   "cell_type": "code",
   "execution_count": 6,
   "metadata": {},
   "outputs": [],
   "source": [
    "for i in mapt_rbps_ids:\n",
    "    rbp_id = i[0]\n",
    "    data=pd.read_csv(\"../../data/MoreOld/top10align_motifs/\"+rbp_id+\"_top10align_pfm.txt\",sep=\"\\t\",header=0,index_col=0)\n",
    "    data_matrix = data.values\n",
    "    PWM_cluster = np.log2(data_matrix/0.25)\n",
    "    #print(PWM_cluster)\n",
    "    with open(\"../../data/RBPcompendium_MAPT_RBP_PWMs/\"+rbp_id+\"_pwm.txt\",\"w\") as fw:\n",
    "        for line in PWM_cluster:\n",
    "            for i in line:\n",
    "                fw.write(str(format(i)))\n",
    "                fw.write(\"\\t\")\n",
    "            fw.write(\"\\n\")"
   ]
  },
  {
   "cell_type": "markdown",
   "metadata": {},
   "source": [
    "### Obtain PWMs for Dominguez 2019 RBPs"
   ]
  },
  {
   "cell_type": "code",
   "execution_count": 7,
   "metadata": {},
   "outputs": [
    {
     "data": {
      "text/html": [
       "<div>\n",
       "<style scoped>\n",
       "    .dataframe tbody tr th:only-of-type {\n",
       "        vertical-align: middle;\n",
       "    }\n",
       "\n",
       "    .dataframe tbody tr th {\n",
       "        vertical-align: top;\n",
       "    }\n",
       "\n",
       "    .dataframe thead th {\n",
       "        text-align: right;\n",
       "    }\n",
       "</style>\n",
       "<table border=\"1\" class=\"dataframe\">\n",
       "  <thead>\n",
       "    <tr style=\"text-align: right;\">\n",
       "      <th></th>\n",
       "      <th>SRSF11</th>\n",
       "      <th>SRSF4</th>\n",
       "      <th>SRSF5</th>\n",
       "      <th>SRSF8</th>\n",
       "    </tr>\n",
       "  </thead>\n",
       "  <tbody>\n",
       "    <tr>\n",
       "      <th>0</th>\n",
       "      <td>AGCAGAG</td>\n",
       "      <td>CAGCAGT</td>\n",
       "      <td>GCCAGCC</td>\n",
       "      <td>GTAGCAG</td>\n",
       "    </tr>\n",
       "    <tr>\n",
       "      <th>1</th>\n",
       "      <td>AGAGAGA</td>\n",
       "      <td>AGCAGTT</td>\n",
       "      <td>CGCTACC</td>\n",
       "      <td>GCAGCAG</td>\n",
       "    </tr>\n",
       "    <tr>\n",
       "      <th>2</th>\n",
       "      <td>NaN</td>\n",
       "      <td>TGCAGTG</td>\n",
       "      <td>GCCGCCC</td>\n",
       "      <td>AGCAGCA</td>\n",
       "    </tr>\n",
       "    <tr>\n",
       "      <th>3</th>\n",
       "      <td>NaN</td>\n",
       "      <td>CAGCGGT</td>\n",
       "      <td>CCGCCCC</td>\n",
       "      <td>AGCAGTA</td>\n",
       "    </tr>\n",
       "    <tr>\n",
       "      <th>4</th>\n",
       "      <td>NaN</td>\n",
       "      <td>GCGCTGC</td>\n",
       "      <td>CGCCTCC</td>\n",
       "      <td>TGCAGCA</td>\n",
       "    </tr>\n",
       "  </tbody>\n",
       "</table>\n",
       "</div>"
      ],
      "text/plain": [
       "    SRSF11    SRSF4    SRSF5    SRSF8\n",
       "0  AGCAGAG  CAGCAGT  GCCAGCC  GTAGCAG\n",
       "1  AGAGAGA  AGCAGTT  CGCTACC  GCAGCAG\n",
       "2      NaN  TGCAGTG  GCCGCCC  AGCAGCA\n",
       "3      NaN  CAGCGGT  CCGCCCC  AGCAGTA\n",
       "4      NaN  GCGCTGC  CGCCTCC  TGCAGCA"
      ]
     },
     "execution_count": 7,
     "metadata": {},
     "output_type": "execute_result"
    }
   ],
   "source": [
    "rbp_motifs = pd.read_table(\"../../data/Dominguez2018_MAPT_RBPmotifs.tsv\",sep=\"\\t\",header=0)\n",
    "rbp_motifs.head()"
   ]
  },
  {
   "cell_type": "code",
   "execution_count": 19,
   "metadata": {},
   "outputs": [],
   "source": [
    "SRSF11_motifs = list(rbp_motifs[\"SRSF11\"].dropna().values)"
   ]
  },
  {
   "cell_type": "code",
   "execution_count": 20,
   "metadata": {},
   "outputs": [],
   "source": [
    "SRSF4_motifs = list(rbp_motifs[\"SRSF4\"].dropna().values)"
   ]
  },
  {
   "cell_type": "code",
   "execution_count": 21,
   "metadata": {},
   "outputs": [],
   "source": [
    "SRSF5_motifs = list(rbp_motifs[\"SRSF5\"].dropna().values)"
   ]
  },
  {
   "cell_type": "code",
   "execution_count": 22,
   "metadata": {},
   "outputs": [],
   "source": [
    "SRSF8_motifs = list(rbp_motifs[\"SRSF8\"].dropna().values)"
   ]
  },
  {
   "cell_type": "code",
   "execution_count": 23,
   "metadata": {},
   "outputs": [],
   "source": [
    "motifs_dict = {\"SRSF11\":SRSF11_motifs,\"SRSF4\":SRSF4_motifs,\"SRSF5\":SRSF5_motifs,\"SRSF8\":SRSF8_motifs}"
   ]
  },
  {
   "cell_type": "code",
   "execution_count": 25,
   "metadata": {},
   "outputs": [],
   "source": [
    "pseudocount=1"
   ]
  },
  {
   "cell_type": "code",
   "execution_count": 27,
   "metadata": {},
   "outputs": [],
   "source": [
    "import seqlogo\n",
    "import random\n",
    "for motif_interest in motifs_dict.keys():\n",
    "    motifs = motifs_dict[motif_interest]\n",
    "    motif_length = max([len(i) for i in motifs])\n",
    "    num_motifs = len(motifs)\n",
    "    # Get the number of counts of A,C,T and G \n",
    "    # This will create a matrix of 4 rows where each row is a nucleotide and columns of length of motif length\n",
    "    counts_ACTG = np.zeros((4,motif_length))\n",
    "    #print(motif_length)\n",
    "    for i in range(motif_length):\n",
    "        char_at_i = [j[i] for j in motifs]\n",
    "        counts_ACTG[0,i] = char_at_i.count(\"A\")\n",
    "        counts_ACTG[1,i] = char_at_i.count(\"C\")\n",
    "        counts_ACTG[2,i] = char_at_i.count(\"G\")\n",
    "        counts_ACTG[3,i] = char_at_i.count(\"T\")\n",
    "    \n",
    "    #Empty array for cumulative counts\n",
    "    counts_ACTG_cum = np.zeros((4,motif_length))\n",
    "    \n",
    "    # Generate random counts for gap values a 100 times and add to counts\n",
    "    # This is in order to randomly distribute the gaps between the 4 nucleotides \n",
    "    # Otherwise we are left with instances of gaps but it is unclear where to put these\n",
    "    for z in range(100):\n",
    "        rand_counts = np.zeros((4,motif_length))\n",
    "        for i in range(motif_length):\n",
    "            char_at_i = [j[i] for j in motifs]\n",
    "            num_gaps = char_at_i.count(\"-\")\n",
    "            if num_gaps == 0:\n",
    "                rand_counts_i = [0,0,0,0]\n",
    "            else:\n",
    "                a = random.randint(0, num_gaps)\n",
    "                b = random.randint(0, num_gaps-a)\n",
    "                c = random.randint(0, num_gaps-(a+b))\n",
    "                rand_counts_i = [a, b, c, num_gaps - (a+b+c)]\n",
    "            rand_counts[:,i] = rand_counts_i\n",
    "        # The matrix rand_counts will account for the gaps randomly distributed across nucleotides\n",
    "        # We are going to randomly do this a 100 times and keep adding random counts \n",
    "        counts_ACTG_toAdd = (counts_ACTG + rand_counts + (pseudocount/4))/(num_motifs+pseudocount)\n",
    "        counts_ACTG_cum += counts_ACTG_toAdd\n",
    "        #counts_ACTG_ToVisualize = counts_ACTG + rand_counts\n",
    "    \n",
    "    # Divide the cumulative counts by 100 since we did this a 100 times\n",
    "    counts_ACTG_withpseudocount = counts_ACTG_cum/100\n",
    "    #print(np.sum(counts_ACTG_withpseudocount,axis=0))\n",
    "    # Assume a background nucleotide rate for each nucleoide as 0.25\n",
    "    PWM_cluster = np.log2(counts_ACTG_withpseudocount/0.25)\n",
    "    #print(PWM_cluster)\n",
    "    with open(\"../../data/Dominguez2018_MAPT_RBPs/\"+motif_interest+\"_PWM.txt\",\"w\") as fw:\n",
    "        for line in PWM_cluster.transpose():\n",
    "            for i in line:\n",
    "                fw.write(str(format(i)))\n",
    "                fw.write(\"\\t\")\n",
    "            fw.write(\"\\n\")\n",
    "    PPM_seqLogo = seqlogo.Ppm(counts_ACTG_withpseudocount.transpose())\n",
    "    #print(counts_ACTG_ToVisualize.transpose())\n",
    "    #print(seqlogo.pfm2pwm(counts_ACTG_ToVisualize.transpose(), background = 0.25, pseudocount = 0.8))\n",
    "    \n",
    "    #print(clust)\n",
    "    seqlogo.seqlogo(PPM_seqLogo, ic_scale = False, filename=\"../../data/Dominguez2018_MAPT_RBPs/\"+motif_interest+\"_fromPWM.png\", format = 'png', size = 'medium')"
   ]
  },
  {
   "cell_type": "code",
   "execution_count": null,
   "metadata": {},
   "outputs": [],
   "source": []
  }
 ],
 "metadata": {
  "kernelspec": {
   "display_name": "Python 3",
   "language": "python",
   "name": "python3"
  },
  "language_info": {
   "codemirror_mode": {
    "name": "ipython",
    "version": 3
   },
   "file_extension": ".py",
   "mimetype": "text/x-python",
   "name": "python",
   "nbconvert_exporter": "python",
   "pygments_lexer": "ipython3",
   "version": "3.6.9"
  }
 },
 "nbformat": 4,
 "nbformat_minor": 2
}
