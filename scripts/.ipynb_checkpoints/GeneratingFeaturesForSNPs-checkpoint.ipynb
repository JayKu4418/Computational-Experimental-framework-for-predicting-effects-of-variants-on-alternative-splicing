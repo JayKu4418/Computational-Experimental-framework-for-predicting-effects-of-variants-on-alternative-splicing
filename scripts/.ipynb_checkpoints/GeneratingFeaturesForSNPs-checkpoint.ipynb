{
 "cells": [
  {
   "cell_type": "markdown",
   "metadata": {},
   "source": [
    "# Steps for generating features "
   ]
  },
  {
   "cell_type": "markdown",
   "metadata": {},
   "source": [
    "## Feature 1 : Unfolding energy of regions: Splice Site, region around mutation, larger region around splice site\n",
    "* Splice site is defined as 3 bases upstream and 6 bases downstream of exon-intron boundary"
   ]
  },
  {
   "cell_type": "markdown",
   "metadata": {},
   "source": [
    "## Ensemble based calculations"
   ]
  },
  {
   "cell_type": "markdown",
   "metadata": {},
   "source": [
    "### Generate structural ensemble for each sequence (WT and mutations) incorporating DMS data collected for WT sequence"
   ]
  },
  {
   "cell_type": "code",
   "execution_count": null,
   "metadata": {},
   "outputs": [],
   "source": [
    "# Invivo data\n",
    "python generateStructuralEnsemble_NoMaxPairingDist_RNAStructure.py -f ../data/MAPT_exon10intron10withDMSdata.fa -m  ../data/MAPT_SNPs_ToTest.tsv -b 93 -d ../data/Invivo_Exon10Intron10_PooledRep_RenormalizedPerNucleotide_ScaledGUs_GsAndUsSetToLargeNegativeValue_RewrittenCoordinatesIncludeAllExon10.shape -t /home/jkumar/Projects/Model_MAPTsplicing/tmp/InvivoDMSdata_PooledRep_Exon10Intron10_Structures/StructuralEnsemble_SNPs/"
   ]
  },
  {
   "cell_type": "code",
   "execution_count": null,
   "metadata": {},
   "outputs": [],
   "source": [
    "# Exvivo data\n",
    "python generateStructuralEnsemble_NoMaxPairingDist_RNAStructure.py -f ../data/MAPT_exon10intron10withDMSdata.fa -m  ../data/MAPT_SNPs_ToTest.tsv -b 93 -d ../data/Exvivo_Exon10Intron10_PooledRep_RenormalizedPerNucleotide_ScaledGUs_GsAndUsSetToLargeNegativeValue_RewrittenCoordinatesIncludeAllExon10.shape -t /home/jkumar/Projects/Model_MAPTsplicing/tmp/ExvivoDMSdata_PooledRep_Exon10Intron10_Structures/StructuralEnsemble_SNPs/"
   ]
  },
  {
   "cell_type": "code",
   "execution_count": null,
   "metadata": {},
   "outputs": [],
   "source": [
    "# no data \n",
    "python generateStructuralEnsemble_NoMaxPairingDist_RNAStructure.py -f ../data/MAPT_exon10intron10withDMSdata.fa -m  ../data/MAPT_SNPs_ToTest.tsv -b 93 -t /home/jkumar/Projects/Model_MAPTsplicing/tmp/NoDMSdata_PooledRep_Exon10Intron10_Structures/StructuralEnsemble_SNPs/"
   ]
  },
  {
   "cell_type": "markdown",
   "metadata": {},
   "source": [
    "### Calculate the median energy of the ensemble for each mutation and WT"
   ]
  },
  {
   "cell_type": "code",
   "execution_count": null,
   "metadata": {},
   "outputs": [],
   "source": [
    "# Invivo data\n",
    "python calulateMedianDeltaGForEnsemblePerMutation.py -f /home/jkumar/Projects/Model_MAPTsplicing/tmp/InvivoDMSdata_PooledRep_Exon10Intron10_Structures/ -t SNPs -m ../data/MAPT_SNPs_ToTest.tsv -p Rsample -a Median"
   ]
  },
  {
   "cell_type": "code",
   "execution_count": null,
   "metadata": {},
   "outputs": [],
   "source": [
    "# Exvivo data\n",
    "python calulateMedianDeltaGForEnsemblePerMutation.py -f /home/jkumar/Projects/Model_MAPTsplicing/tmp/ExvivoDMSdata_PooledRep_Exon10Intron10_Structures/ -t SNPs -m ../data/MAPT_SNPs_ToTest.tsv -p Rsample -a Median"
   ]
  },
  {
   "cell_type": "code",
   "execution_count": null,
   "metadata": {},
   "outputs": [],
   "source": [
    "# No data\n",
    "python calulateMedianDeltaGForEnsemblePerMutation.py -f /home/jkumar/Projects/Model_MAPTsplicing/tmp/NoDMSdata_PooledRep_Exon10Intron10_Structures/ -t SNPs -m ../data/MAPT_SNPs_ToTest.tsv -p Partition -a Median"
   ]
  },
  {
   "cell_type": "markdown",
   "metadata": {},
   "source": [
    "### Unfold just the splice site for each sequence (WT and mutations) and calculate the difference in delta G "
   ]
  },
  {
   "cell_type": "code",
   "execution_count": null,
   "metadata": {},
   "outputs": [],
   "source": [
    "# Invivo data\n",
    "python calculateDeltaGforUnfoldingCoordinatePair.py -f /home/jkumar/Projects/Model_MAPTsplicing/tmp/InvivoDMSdata_PooledRep_Exon10Intron10_Structures/ -t SNPs -b StructuralEnsemble -r Unfold_SpliceSite -m ../data/MAPT_SNPs_ToTest.tsv -1 91 -2 99 -p Rsample -g MAPT -a Median -c 93"
   ]
  },
  {
   "cell_type": "code",
   "execution_count": null,
   "metadata": {},
   "outputs": [],
   "source": [
    "# Exvivo data\n",
    "python calculateDeltaGforUnfoldingCoordinatePair.py -f /home/jkumar/Projects/Model_MAPTsplicing/tmp/ExvivoDMSdata_PooledRep_Exon10Intron10_Structures/ -t SNPs -b StructuralEnsemble -r Unfold_SpliceSite -m ../data/MAPT_SNPs_ToTest.tsv -1 91 -2 99 -p Rsample -g MAPT -a Median -c 93"
   ]
  },
  {
   "cell_type": "code",
   "execution_count": null,
   "metadata": {},
   "outputs": [],
   "source": [
    "# No data\n",
    "python calculateDeltaGforUnfoldingCoordinatePair.py -f /home/jkumar/Projects/Model_MAPTsplicing/tmp/NoDMSdata_PooledRep_Exon10Intron10_Structures/ -t SNPs -b StructuralEnsemble -r Unfold_SpliceSite -m ../data/MAPT_SNPs_ToTest.tsv -1 91 -2 99 -p Partition -g MAPT -a Median -c 93"
   ]
  },
  {
   "cell_type": "markdown",
   "metadata": {},
   "source": [
    "### Unfold the local region around each mutation and calculate the difference in delta G - use window of 5"
   ]
  },
  {
   "cell_type": "code",
   "execution_count": null,
   "metadata": {},
   "outputs": [],
   "source": [
    "# Invivo data\n",
    "python calculateDeltaGforUnfoldingEnergyAroundMutation.py -f /home/jkumar/Projects/Model_MAPTsplicing/tmp/InvivoDMSdata_PooledRep_Exon10Intron10_Structures/ -t SNPs -c StructuralEnsemble -r Unfold_LocalRegion -m ../data/MAPT_SNPs_ToTest.tsv -w 5 -b 93 -p Rsample -g MAPT -a Median"
   ]
  },
  {
   "cell_type": "code",
   "execution_count": null,
   "metadata": {},
   "outputs": [],
   "source": [
    "# Exvivo data\n",
    "python calculateDeltaGforUnfoldingEnergyAroundMutation.py -f /home/jkumar/Projects/Model_MAPTsplicing/tmp/ExvivoDMSdata_PooledRep_Exon10Intron10_Structures/ -t SNPs -c StructuralEnsemble -r Unfold_LocalRegion -m ../data/MAPT_SNPs_ToTest.tsv -w 5 -b 93 -p Rsample -g MAPT -a Median"
   ]
  },
  {
   "cell_type": "code",
   "execution_count": null,
   "metadata": {},
   "outputs": [],
   "source": [
    "# No data\n",
    "python calculateDeltaGforUnfoldingEnergyAroundMutation.py -f /home/jkumar/Projects/Model_MAPTsplicing/tmp/NoDMSdata_PooledRep_Exon10Intron10_Structures/ -t SNPs -c StructuralEnsemble -r Unfold_LocalRegion -m ../data/MAPT_SNPs_ToTest.tsv -w 5 -b 93 -p Partition -g MAPT -a Median"
   ]
  },
  {
   "cell_type": "markdown",
   "metadata": {},
   "source": [
    "### Unfold 10 bases around the splice site for each sequence (WT and mutations) and calculate the difference in delta G "
   ]
  },
  {
   "cell_type": "code",
   "execution_count": null,
   "metadata": {},
   "outputs": [],
   "source": [
    "# Invivo data\n",
    "python calculateDeltaGforUnfoldingCoordinatePair.py -f /home/jkumar/Projects/Model_MAPTsplicing/tmp/InvivoDMSdata_PooledRep_Exon10Intron10_Structures/ -t SNPs -b StructuralEnsemble -r Unfold_20basesAroundSpliceSite -m ../data/MAPT_SNPs_ToTest.tsv -1 84 -2 103 -p Rsample -g MAPT -a Median"
   ]
  },
  {
   "cell_type": "code",
   "execution_count": null,
   "metadata": {},
   "outputs": [],
   "source": [
    "# Exvivo data\n",
    "python calculateDeltaGforUnfoldingCoordinatePair.py -f /home/jkumar/Projects/Model_MAPTsplicing/tmp/ExvivoDMSdata_PooledRep_Exon10Intron10_Structures/ -t SNPs -b StructuralEnsemble -r Unfold_20basesAroundSpliceSite -m ../data/MAPT_SNPs_ToTest.tsv -1 84 -2 103 -p Rsample -g MAPT -a Median"
   ]
  },
  {
   "cell_type": "code",
   "execution_count": null,
   "metadata": {},
   "outputs": [],
   "source": [
    "# No data\n",
    "python calculateDeltaGforUnfoldingCoordinatePair.py -f /home/jkumar/Projects/Model_MAPTsplicing/tmp/NoDMSdata_PooledRep_Exon10Intron10_Structures/ -t SNPs -b StructuralEnsemble -r Unfold_20basesAroundSpliceSite -m ../data/MAPT_SNPs_ToTest.tsv -1 84 -2 103 -p Partition -g MAPT -a Median"
   ]
  },
  {
   "cell_type": "markdown",
   "metadata": {},
   "source": [
    "### Unfold 12 exonic bases and 31 intronic bases for each sequence (WT and mutations) and calculate the difference in delta G -> from splicesome assembly model"
   ]
  },
  {
   "cell_type": "code",
   "execution_count": null,
   "metadata": {},
   "outputs": [],
   "source": [
    "# Invivo data\n",
    "python calculateDeltaGforUnfoldingCoordinatePair.py -f /home/jkumar/Projects/Model_MAPTsplicing/tmp/InvivoDMSdata_PooledRep_Exon10Intron10_Structures/ -t SNPs -b StructuralEnsemble -r Unfold_MaxLengthRNAinSpliceosome -m ../data/MAPT_SNPs_ToTest.tsv -1 82 -2 124 -p Rsample -g MAPT -a Median -c 93"
   ]
  },
  {
   "cell_type": "code",
   "execution_count": null,
   "metadata": {},
   "outputs": [],
   "source": [
    "# Exvivo data\n",
    "python calculateDeltaGforUnfoldingCoordinatePair.py -f /home/jkumar/Projects/Model_MAPTsplicing/tmp/ExvivoDMSdata_PooledRep_Exon10Intron10_Structures/ -t SNPs -b StructuralEnsemble -r Unfold_MaxLengthRNAinSpliceosome -m ../data/MAPT_SNPs_ToTest.tsv -1 82 -2 124 -p Rsample -g MAPT -a Median -c 93"
   ]
  },
  {
   "cell_type": "code",
   "execution_count": null,
   "metadata": {},
   "outputs": [],
   "source": [
    "# No data\n",
    "python calculateDeltaGforUnfoldingCoordinatePair.py -f /home/jkumar/Projects/Model_MAPTsplicing/tmp/NoDMSdata_PooledRep_Exon10Intron10_Structures/ -t SNPs -b StructuralEnsemble -r Unfold_MaxLengthRNAinSpliceosome -m ../data/MAPT_SNPs_ToTest.tsv -1 82 -2 124 -p Partition -g MAPT -a Median -c 93"
   ]
  },
  {
   "cell_type": "markdown",
   "metadata": {},
   "source": [
    "## MFE based calculations"
   ]
  },
  {
   "cell_type": "markdown",
   "metadata": {},
   "source": [
    "### Calculate the energy of the MFE of sequence "
   ]
  },
  {
   "cell_type": "code",
   "execution_count": null,
   "metadata": {},
   "outputs": [],
   "source": [
    "# Invivo data\n",
    "python generateMFEstructure_NoMaxPairingDist_RNAStructure.py -f ../data/MAPT_exon10intron10withDMSdata.fa -m  ../data/MAPT_SNPs_ToTest.tsv -b 93 -d ../data/Invivo_Exon10Intron10_PooledRep_RenormalizedPerNucleotide_ScaledGUs_GsAndUsSetToLargeNegativeValue_RewrittenCoordinatesIncludeAllExon10.shape -t /home/jkumar/Projects/Model_MAPTsplicing/tmp/InvivoDMSdata_PooledRep_Exon10Intron10_Structures/ -q SNPs  "
   ]
  },
  {
   "cell_type": "code",
   "execution_count": null,
   "metadata": {},
   "outputs": [],
   "source": [
    "# Exvivo data\n",
    "python generateMFEstructure_NoMaxPairingDist_RNAStructure.py -f ../data/MAPT_exon10intron10withDMSdata.fa -m  ../data/MAPT_SNPs_ToTest.tsv -b 93 -d ../data/Exvivo_Exon10Intron10_PooledRep_RenormalizedPerNucleotide_ScaledGUs_GsAndUsSetToLargeNegativeValue_RewrittenCoordinatesIncludeAllExon10.shape -t /home/jkumar/Projects/Model_MAPTsplicing/tmp/ExvivoDMSdata_PooledRep_Exon10Intron10_Structures/ -q SNPs  "
   ]
  },
  {
   "cell_type": "code",
   "execution_count": null,
   "metadata": {},
   "outputs": [],
   "source": [
    "# No data\n",
    "python generateMFEstructure_NoMaxPairingDist_RNAStructure.py -f ../data/MAPT_exon10intron10withDMSdata.fa -m  ../data/MAPT_SNPs_ToTest.tsv -b 93 -t /home/jkumar/Projects/Model_MAPTsplicing/tmp/NoDMSdata_PooledRep_Exon10Intron10_Structures/ -q SNPs  "
   ]
  },
  {
   "cell_type": "markdown",
   "metadata": {},
   "source": [
    "### Unfold splice site"
   ]
  },
  {
   "cell_type": "code",
   "execution_count": null,
   "metadata": {},
   "outputs": [],
   "source": [
    "# Invivo data\n",
    "python calculateDeltaGforUnfoldingCoordinatePair.py -f /home/jkumar/Projects/Model_MAPTsplicing/tmp/InvivoDMSdata_PooledRep_Exon10Intron10_Structures/ -t SNPs -b MFEstructures -r Unfold_SpliceSite -m ../data/MAPT_SNPs_ToTest.tsv -1 91 -2 99 -p DMSdata -g MAPT -a Median -c 93"
   ]
  },
  {
   "cell_type": "code",
   "execution_count": null,
   "metadata": {},
   "outputs": [],
   "source": [
    "# Exvivo data\n",
    "python calculateDeltaGforUnfoldingCoordinatePair.py -f /home/jkumar/Projects/Model_MAPTsplicing/tmp/ExvivoDMSdata_PooledRep_Exon10Intron10_Structures/ -t SNPs -b MFEstructures -r Unfold_SpliceSite -m ../data/MAPT_SNPs_ToTest.tsv -1 91 -2 99 -p DMSdata -g MAPT -a Median -c 93"
   ]
  },
  {
   "cell_type": "code",
   "execution_count": null,
   "metadata": {},
   "outputs": [],
   "source": [
    "# No data\n",
    "python calculateDeltaGforUnfoldingCoordinatePair.py -f /home/jkumar/Projects/Model_MAPTsplicing/tmp/NoDMSdata_PooledRep_Exon10Intron10_Structures/ -t SNPs -b MFEstructures -r Unfold_SpliceSite -m ../data/MAPT_SNPs_ToTest.tsv -1 91 -2 99 -p NoDMSdata -g MAPT -a Median -c 93"
   ]
  },
  {
   "cell_type": "markdown",
   "metadata": {},
   "source": [
    "### Unfold the local region around each mutation and calculate the difference in delta G - use window of 5"
   ]
  },
  {
   "cell_type": "code",
   "execution_count": null,
   "metadata": {},
   "outputs": [],
   "source": [
    "# Invivo data\n",
    "python calculateDeltaGforUnfoldingEnergyAroundMutation.py -f /home/jkumar/Projects/Model_MAPTsplicing/tmp/InvivoDMSdata_PooledRep_Exon10Intron10_Structures/ -t SNPs -c MFEstructures -r Unfold_LocalRegion -m ../data/MAPT_SNPs_ToTest.tsv -w 5 -b 93 -p DMSdata -g MAPT -a Median"
   ]
  },
  {
   "cell_type": "code",
   "execution_count": null,
   "metadata": {},
   "outputs": [],
   "source": [
    "# Exvivo data\n",
    "python calculateDeltaGforUnfoldingEnergyAroundMutation.py -f /home/jkumar/Projects/Model_MAPTsplicing/tmp/ExvivoDMSdata_PooledRep_Exon10Intron10_Structures/ -t SNPs -c MFEstructures -r Unfold_LocalRegion -m ../data/MAPT_SNPs_ToTest.tsv -w 5 -b 93 -p DMSdata -g MAPT -a Median"
   ]
  },
  {
   "cell_type": "code",
   "execution_count": null,
   "metadata": {},
   "outputs": [],
   "source": [
    "# No data\n",
    "python calculateDeltaGforUnfoldingEnergyAroundMutation.py -f /home/jkumar/Projects/Model_MAPTsplicing/tmp/NoDMSdata_PooledRep_Exon10Intron10_Structures/ -t SNPs -c MFEstructures -r Unfold_LocalRegion -m ../data/MAPT_SNPs_ToTest.tsv -w 5 -b 93 -p NoDMSdata -g MAPT -a Median"
   ]
  },
  {
   "cell_type": "markdown",
   "metadata": {},
   "source": [
    "### Unfold 10 bases around the splice site for each sequence (WT and mutations) and calculate the difference in delta G "
   ]
  },
  {
   "cell_type": "code",
   "execution_count": null,
   "metadata": {},
   "outputs": [],
   "source": [
    "# Invivo data\n",
    "python calculateDeltaGforUnfoldingCoordinatePair.py -f /home/jkumar/Projects/Model_MAPTsplicing/tmp/InvivoDMSdata_PooledRep_Exon10Intron10_Structures/ -t SNPs -b MFEstructures -r Unfold_20basesAroundSpliceSite -m ../data/MAPT_SNPs_ToTest.tsv -1 84 -2 103 -p DMSdata -g MAPT -a Median"
   ]
  },
  {
   "cell_type": "code",
   "execution_count": null,
   "metadata": {},
   "outputs": [],
   "source": [
    "# Exvivo data\n",
    "python calculateDeltaGforUnfoldingCoordinatePair.py -f /home/jkumar/Projects/Model_MAPTsplicing/tmp/ExvivoDMSdata_PooledRep_Exon10Intron10_Structures/ -t SNPs -b MFEstructures -r Unfold_20basesAroundSpliceSite -m ../data/MAPT_SNPs_ToTest.tsv -1 84 -2 103 -p DMSdata -g MAPT -a Median"
   ]
  },
  {
   "cell_type": "code",
   "execution_count": null,
   "metadata": {},
   "outputs": [],
   "source": [
    "# No data\n",
    "python calculateDeltaGforUnfoldingCoordinatePair.py -f /home/jkumar/Projects/Model_MAPTsplicing/tmp/NoDMSdata_PooledRep_Exon10Intron10_Structures/ -t SNPs -b MFEstructures -r Unfold_20basesAroundSpliceSite -m ../data/MAPT_SNPs_ToTest.tsv -1 84 -2 103 -p NoDMSdata -g MAPT -a Median"
   ]
  },
  {
   "cell_type": "markdown",
   "metadata": {},
   "source": [
    "### Unfold 12 exonic bases and 31 intronic bases for each sequence (WT and mutations) and calculate the difference in delta G -> from splicesome assembly model### Unfold splice site"
   ]
  },
  {
   "cell_type": "code",
   "execution_count": null,
   "metadata": {},
   "outputs": [],
   "source": [
    "# Invivo data\n",
    "python calculateDeltaGforUnfoldingCoordinatePair.py -f /home/jkumar/Projects/Model_MAPTsplicing/tmp/InvivoDMSdata_PooledRep_Exon10Intron10_Structures/ -t SNPs -b MFEstructures -r Unfold_MaxLengthRNAinSpliceosome -m ../data/MAPT_SNPs_ToTest.tsv -1 82 -2 124 -p DMSdata -g MAPT -a Median -c 93"
   ]
  },
  {
   "cell_type": "code",
   "execution_count": null,
   "metadata": {},
   "outputs": [],
   "source": [
    "# Exvivo data\n",
    "python calculateDeltaGforUnfoldingCoordinatePair.py -f /home/jkumar/Projects/Model_MAPTsplicing/tmp/ExvivoDMSdata_PooledRep_Exon10Intron10_Structures/ -t SNPs -b MFEstructures -r Unfold_MaxLengthRNAinSpliceosome -m ../data/MAPT_SNPs_ToTest.tsv -1 82 -2 124 -p DMSdata -g MAPT -a Median -c 93"
   ]
  },
  {
   "cell_type": "code",
   "execution_count": null,
   "metadata": {},
   "outputs": [],
   "source": [
    "# No data\n",
    "python calculateDeltaGforUnfoldingCoordinatePair.py -f /home/jkumar/Projects/Model_MAPTsplicing/tmp/NoDMSdata_PooledRep_Exon10Intron10_Structures/ -t SNPs -b MFEstructures -r Unfold_MaxLengthRNAinSpliceosome -m ../data/MAPT_SNPs_ToTest.tsv -1 82 -2 124 -p NoDMSdata -g MAPT -a Median -c 93"
   ]
  },
  {
   "cell_type": "code",
   "execution_count": null,
   "metadata": {},
   "outputs": [],
   "source": []
  },
  {
   "cell_type": "markdown",
   "metadata": {},
   "source": [
    "### Calculate the difference in delta G between WT and MUT for all regions interested"
   ]
  },
  {
   "cell_type": "code",
   "execution_count": null,
   "metadata": {},
   "outputs": [],
   "source": [
    "# Calculation for invivo, exvivo and nodata all done in a single script\n",
    "python calculateDiffDeltaGforUnfoldingBetweenWTandNotWT.py StructuralEnsemble SNPs_ToTest\n",
    "python calculateDiffDeltaGforUnfoldingBetweenWTandNotWT.py MFEstructures SNPs_ToTest"
   ]
  },
  {
   "cell_type": "code",
   "execution_count": null,
   "metadata": {},
   "outputs": [],
   "source": []
  },
  {
   "cell_type": "markdown",
   "metadata": {},
   "source": [
    "## Feature 2 : 5' Splice Site Strength\n",
    "* Splice site is defined as 3 bases upstream and 6 bases downstream of exon-intron boundary"
   ]
  },
  {
   "cell_type": "code",
   "execution_count": null,
   "metadata": {},
   "outputs": [],
   "source": [
    "python calculate5pSpliceSiteStrength.py -t /home/jkumar/Projects/Model_MAPTsplicing/tmp/ -w ../data/MAPT_exon10intron10withDMSdata.fa -b 93 -m ../data/MAPT_SNPs_ToTest.tsv"
   ]
  },
  {
   "cell_type": "code",
   "execution_count": null,
   "metadata": {},
   "outputs": [],
   "source": [
    "python calculateDiffInStrengthforMotifsBetweenWTandNotWT.py SNPs_ToTest"
   ]
  },
  {
   "cell_type": "markdown",
   "metadata": {},
   "source": [
    "## Feature 3 : SRE Strength\n",
    "* Calculate changes in strength of SREs - ESEs, ESSs, ISEs, ISSs "
   ]
  },
  {
   "cell_type": "code",
   "execution_count": null,
   "metadata": {},
   "outputs": [],
   "source": [
    "# For all categories\n",
    "python getLocationAndStrengthOfSREbasedOnPWM.py -w ../tmp/ -t Muts -f ../data/MAPT_exon10intron10withDMSdata.fa -b 93 -m ../data/MAPT_SNPs_ToTest.tsv"
   ]
  },
  {
   "cell_type": "code",
   "execution_count": null,
   "metadata": {},
   "outputs": [],
   "source": [
    "# For every cluster of SRE calculate the difference in strength between WT and MUT\n",
    "python calculateSREstrengthDifferenceBetweenWTandMUT_perCluster.py -w ../tmp/ -t Muts -m ../data/MAPT_SNPs_ToTest.tsv"
   ]
  },
  {
   "cell_type": "code",
   "execution_count": null,
   "metadata": {},
   "outputs": [],
   "source": [
    "# Calculate the average diff in strength across all clusters per SRE category\n",
    "python calculateDiffInStrengthforMotifsBetweenWTandNotWT.py SNPs_ToTest"
   ]
  }
 ],
 "metadata": {
  "kernelspec": {
   "display_name": "Python 3",
   "language": "python",
   "name": "python3"
  },
  "language_info": {
   "codemirror_mode": {
    "name": "ipython",
    "version": 3
   },
   "file_extension": ".py",
   "mimetype": "text/x-python",
   "name": "python",
   "nbconvert_exporter": "python",
   "pygments_lexer": "ipython3",
   "version": "3.6.9"
  }
 },
 "nbformat": 4,
 "nbformat_minor": 2
}
