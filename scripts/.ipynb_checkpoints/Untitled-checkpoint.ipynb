{
 "cells": [
  {
   "cell_type": "code",
   "execution_count": 36,
   "metadata": {},
   "outputs": [],
   "source": [
    "from Bio.Data import CodonTable\n",
    "import math"
   ]
  },
  {
   "cell_type": "code",
   "execution_count": 26,
   "metadata": {},
   "outputs": [],
   "source": [
    "standard_table = CodonTable.unambiguous_rna_by_id[1]"
   ]
  },
  {
   "cell_type": "code",
   "execution_count": 27,
   "metadata": {},
   "outputs": [
    {
     "name": "stdout",
     "output_type": "stream",
     "text": [
      "Table 1 Standard, SGC0\n",
      "\n",
      "  |  U      |  C      |  A      |  G      |\n",
      "--+---------+---------+---------+---------+--\n",
      "U | UUU F   | UCU S   | UAU Y   | UGU C   | U\n",
      "U | UUC F   | UCC S   | UAC Y   | UGC C   | C\n",
      "U | UUA L   | UCA S   | UAA Stop| UGA Stop| A\n",
      "U | UUG L(s)| UCG S   | UAG Stop| UGG W   | G\n",
      "--+---------+---------+---------+---------+--\n",
      "C | CUU L   | CCU P   | CAU H   | CGU R   | U\n",
      "C | CUC L   | CCC P   | CAC H   | CGC R   | C\n",
      "C | CUA L   | CCA P   | CAA Q   | CGA R   | A\n",
      "C | CUG L(s)| CCG P   | CAG Q   | CGG R   | G\n",
      "--+---------+---------+---------+---------+--\n",
      "A | AUU I   | ACU T   | AAU N   | AGU S   | U\n",
      "A | AUC I   | ACC T   | AAC N   | AGC S   | C\n",
      "A | AUA I   | ACA T   | AAA K   | AGA R   | A\n",
      "A | AUG M(s)| ACG T   | AAG K   | AGG R   | G\n",
      "--+---------+---------+---------+---------+--\n",
      "G | GUU V   | GCU A   | GAU D   | GGU G   | U\n",
      "G | GUC V   | GCC A   | GAC D   | GGC G   | C\n",
      "G | GUA V   | GCA A   | GAA E   | GGA G   | A\n",
      "G | GUG V   | GCG A   | GAG E   | GGG G   | G\n",
      "--+---------+---------+---------+---------+--\n"
     ]
    }
   ],
   "source": [
    "print(standard_table)"
   ]
  },
  {
   "cell_type": "code",
   "execution_count": 33,
   "metadata": {},
   "outputs": [
    {
     "data": {
      "text/plain": [
       "['P',\n",
       " 'H',\n",
       " 'I',\n",
       " 'W',\n",
       " 'V',\n",
       " 'F',\n",
       " 'Q',\n",
       " 'G',\n",
       " 'S',\n",
       " 'A',\n",
       " 'M',\n",
       " 'D',\n",
       " 'C',\n",
       " 'E',\n",
       " 'K',\n",
       " 'Y',\n",
       " 'L',\n",
       " 'T',\n",
       " 'R',\n",
       " 'N']"
      ]
     },
     "execution_count": 33,
     "metadata": {},
     "output_type": "execute_result"
    }
   ],
   "source": [
    "AA_letters = list(set(standard_table.forward_table.values()))\n",
    "AA_letters"
   ]
  },
  {
   "cell_type": "code",
   "execution_count": 48,
   "metadata": {},
   "outputs": [
    {
     "data": {
      "text/plain": [
       "dict_keys(['UUU', 'UUC', 'UUA', 'UUG', 'UCU', 'UCC', 'UCA', 'UCG', 'UAU', 'UAC', 'UGU', 'UGC', 'UGG', 'CUU', 'CUC', 'CUA', 'CUG', 'CCU', 'CCC', 'CCA', 'CCG', 'CAU', 'CAC', 'CAA', 'CAG', 'CGU', 'CGC', 'CGA', 'CGG', 'AUU', 'AUC', 'AUA', 'AUG', 'ACU', 'ACC', 'ACA', 'ACG', 'AAU', 'AAC', 'AAA', 'AAG', 'AGU', 'AGC', 'AGA', 'AGG', 'GUU', 'GUC', 'GUA', 'GUG', 'GCU', 'GCC', 'GCA', 'GCG', 'GAU', 'GAC', 'GAA', 'GAG', 'GGU', 'GGC', 'GGA', 'GGG'])"
      ]
     },
     "execution_count": 48,
     "metadata": {},
     "output_type": "execute_result"
    }
   ],
   "source": [
    "standard_table.forward_table.keys()"
   ]
  },
  {
   "cell_type": "code",
   "execution_count": 34,
   "metadata": {},
   "outputs": [],
   "source": [
    "AA_to_codon = {}\n",
    "for key in standard_table.forward_table.keys():\n",
    "    AA_for_key = standard_table.forward_table[key]\n",
    "    if AA_for_key not in AA_to_codon.keys():\n",
    "        AA_to_codon[AA_for_key] = [key]\n",
    "    else:\n",
    "        AA_to_codon[AA_for_key].append(key)"
   ]
  },
  {
   "cell_type": "code",
   "execution_count": 35,
   "metadata": {},
   "outputs": [
    {
     "data": {
      "text/plain": [
       "{'F': ['UUU', 'UUC'],\n",
       " 'L': ['UUA', 'UUG', 'CUU', 'CUC', 'CUA', 'CUG'],\n",
       " 'S': ['UCU', 'UCC', 'UCA', 'UCG', 'AGU', 'AGC'],\n",
       " 'Y': ['UAU', 'UAC'],\n",
       " 'C': ['UGU', 'UGC'],\n",
       " 'W': ['UGG'],\n",
       " 'P': ['CCU', 'CCC', 'CCA', 'CCG'],\n",
       " 'H': ['CAU', 'CAC'],\n",
       " 'Q': ['CAA', 'CAG'],\n",
       " 'R': ['CGU', 'CGC', 'CGA', 'CGG', 'AGA', 'AGG'],\n",
       " 'I': ['AUU', 'AUC', 'AUA'],\n",
       " 'M': ['AUG'],\n",
       " 'T': ['ACU', 'ACC', 'ACA', 'ACG'],\n",
       " 'N': ['AAU', 'AAC'],\n",
       " 'K': ['AAA', 'AAG'],\n",
       " 'V': ['GUU', 'GUC', 'GUA', 'GUG'],\n",
       " 'A': ['GCU', 'GCC', 'GCA', 'GCG'],\n",
       " 'D': ['GAU', 'GAC'],\n",
       " 'E': ['GAA', 'GAG'],\n",
       " 'G': ['GGU', 'GGC', 'GGA', 'GGG']}"
      ]
     },
     "execution_count": 35,
     "metadata": {},
     "output_type": "execute_result"
    }
   ],
   "source": [
    "AA_to_codon"
   ]
  },
  {
   "cell_type": "code",
   "execution_count": 22,
   "metadata": {},
   "outputs": [],
   "source": [
    "with open(\"../data/MAPT_exon10intron10withDMSdata.fa\") as f:\n",
    "    mapt_seq = [line.strip() for line in f][1]"
   ]
  },
  {
   "cell_type": "code",
   "execution_count": 2,
   "metadata": {},
   "outputs": [
    {
     "data": {
      "text/plain": [
       "'GUGCAGAUAAUUAAUAAGAAGCUGGAUCUUAGCAACGUCCAGUCCAAGUGUGGCUCAAAGGAUAAUAUCAAACACGUCCCGGGAGGCGGCAGUGUGAGUACCUUCACACGUCCCAUGCGCCGUGCUGUGGCUUGAAUUAUUAGGAAGUGGUGUGAGUGCGUACACUUGCGAGACACUGCAUAGAAUAAAUCCUUCUUGGGCUCUCAGGAUCUGGCUGCGACCUCUGGGUGAAUG'"
      ]
     },
     "execution_count": 2,
     "metadata": {},
     "output_type": "execute_result"
    }
   ],
   "source": [
    "mapt_seq"
   ]
  },
  {
   "cell_type": "code",
   "execution_count": 4,
   "metadata": {},
   "outputs": [
    {
     "data": {
      "text/plain": [
       "'GUGCAGAUAAUUAAUAAGAAGCUGGAUCUUAGCAACGUCCAGUCCAAGUGUGGCUCAAAGGAUAAUAUCAAACACGUCCCGGGAGGCGGCAGU'"
      ]
     },
     "execution_count": 4,
     "metadata": {},
     "output_type": "execute_result"
    }
   ],
   "source": [
    "mapt_seq_exon10 = mapt_seq[:93]\n",
    "mapt_seq_exon10"
   ]
  },
  {
   "cell_type": "code",
   "execution_count": 43,
   "metadata": {},
   "outputs": [
    {
     "data": {
      "text/plain": [
       "'VQIINKKLDLSNVQSKCGSKDNIKHVPGGGS'"
      ]
     },
     "execution_count": 43,
     "metadata": {},
     "output_type": "execute_result"
    }
   ],
   "source": [
    "with open(\"../data/MAPT_exon10_AminoAcidSeq.fat\") as f:\n",
    "    mapt_AA_exon10 = [line.strip() for line in f][1]\n",
    "mapt_AA_exon10"
   ]
  },
  {
   "cell_type": "code",
   "execution_count": 5,
   "metadata": {},
   "outputs": [],
   "source": [
    "with open(\"../data/MAPT_CompleteMutagenesis.tsv\") as f:\n",
    "    muts = [line.strip().split(\"\\t\") for line in f]"
   ]
  },
  {
   "cell_type": "code",
   "execution_count": 6,
   "metadata": {},
   "outputs": [
    {
     "data": {
      "text/plain": [
       "[['ID1', '-93', 'G', 'A'],\n",
       " ['ID2', '-93', 'G', 'U'],\n",
       " ['ID3', '-93', 'G', 'C'],\n",
       " ['ID4', '-92', 'U', 'A'],\n",
       " ['ID5', '-92', 'U', 'G']]"
      ]
     },
     "execution_count": 6,
     "metadata": {},
     "output_type": "execute_result"
    }
   ],
   "source": [
    "muts[0:5]"
   ]
  },
  {
   "cell_type": "code",
   "execution_count": 46,
   "metadata": {},
   "outputs": [
    {
     "ename": "KeyError",
     "evalue": "'UAG'",
     "output_type": "error",
     "traceback": [
      "\u001b[0;31m---------------------------------------------------------------------------\u001b[0m",
      "\u001b[0;31mKeyError\u001b[0m                                  Traceback (most recent call last)",
      "\u001b[0;32m<ipython-input-46-dacb4c91afaf>\u001b[0m in \u001b[0;36m<module>\u001b[0;34m\u001b[0m\n\u001b[1;32m     23\u001b[0m         \u001b[0mchanged_codon\u001b[0m \u001b[0;34m=\u001b[0m \u001b[0mcurrent_codon\u001b[0m\u001b[0;34m[\u001b[0m\u001b[0;36m0\u001b[0m\u001b[0;34m:\u001b[0m\u001b[0mpos_on_codon\u001b[0m\u001b[0;34m]\u001b[0m \u001b[0;34m+\u001b[0m \u001b[0mmut_val\u001b[0m \u001b[0;34m+\u001b[0m \u001b[0mcurrent_codon\u001b[0m\u001b[0;34m[\u001b[0m\u001b[0mpos_on_codon\u001b[0m\u001b[0;34m+\u001b[0m\u001b[0;36m1\u001b[0m\u001b[0;34m:\u001b[0m\u001b[0;34m]\u001b[0m\u001b[0;34m\u001b[0m\u001b[0;34m\u001b[0m\u001b[0m\n\u001b[1;32m     24\u001b[0m \u001b[0;34m\u001b[0m\u001b[0m\n\u001b[0;32m---> 25\u001b[0;31m         \u001b[0;32mif\u001b[0m \u001b[0mstandard_table\u001b[0m\u001b[0;34m.\u001b[0m\u001b[0mforward_table\u001b[0m\u001b[0;34m[\u001b[0m\u001b[0mcurrent_codon\u001b[0m\u001b[0;34m]\u001b[0m\u001b[0;34m==\u001b[0m\u001b[0mstandard_table\u001b[0m\u001b[0;34m.\u001b[0m\u001b[0mforward_table\u001b[0m\u001b[0;34m[\u001b[0m\u001b[0mchanged_codon\u001b[0m\u001b[0;34m]\u001b[0m\u001b[0;34m:\u001b[0m\u001b[0;34m\u001b[0m\u001b[0;34m\u001b[0m\u001b[0m\n\u001b[0m\u001b[1;32m     26\u001b[0m             \u001b[0mlabels_for_mut\u001b[0m\u001b[0;34m.\u001b[0m\u001b[0mappend\u001b[0m\u001b[0;34m(\u001b[0m\u001b[0;34m[\u001b[0m\u001b[0mmut\u001b[0m\u001b[0;34m[\u001b[0m\u001b[0;36m0\u001b[0m\u001b[0;34m]\u001b[0m\u001b[0;34m,\u001b[0m\u001b[0mmut\u001b[0m\u001b[0;34m[\u001b[0m\u001b[0;36m1\u001b[0m\u001b[0;34m]\u001b[0m\u001b[0;34m,\u001b[0m\u001b[0mmut\u001b[0m\u001b[0;34m[\u001b[0m\u001b[0;36m2\u001b[0m\u001b[0;34m]\u001b[0m\u001b[0;34m,\u001b[0m\u001b[0mmut\u001b[0m\u001b[0;34m[\u001b[0m\u001b[0;36m3\u001b[0m\u001b[0;34m]\u001b[0m\u001b[0;34m,\u001b[0m\u001b[0;34m\"Synonymous\"\u001b[0m\u001b[0;34m]\u001b[0m\u001b[0;34m)\u001b[0m\u001b[0;34m\u001b[0m\u001b[0;34m\u001b[0m\u001b[0m\n\u001b[1;32m     27\u001b[0m         \u001b[0;32melse\u001b[0m\u001b[0;34m:\u001b[0m\u001b[0;34m\u001b[0m\u001b[0;34m\u001b[0m\u001b[0m\n",
      "\u001b[0;31mKeyError\u001b[0m: 'UAG'"
     ]
    }
   ],
   "source": [
    "labels_for_mut = []\n",
    "for mut in muts:\n",
    "    mut_pos = int(mut[1])\n",
    "    mut_val = mut[3]\n",
    "    if mut_pos > 0:\n",
    "        labels_for_mut.append([mut[0],mut[1],mut[2],mut[3],\"Intronic\"])\n",
    "    else:\n",
    "        # Index position of mutation w.r.t exon seq\n",
    "        mut_pos_e = (93+mut_pos)+1\n",
    "        \n",
    "        # Figure out codon start position\n",
    "        if (mut_pos_e%3) == 0:\n",
    "            start_codon_pos = mut_pos_e - 2\n",
    "            pos_on_codon = 2\n",
    "        elif (mut_pos_e+1)%3 == 0:\n",
    "            start_codon_pos = mut_pos_e - 1\n",
    "            pos_on_codon = 1\n",
    "        else:\n",
    "            start_codon_pos = mut_pos_e\n",
    "            pos_on_codon = 0\n",
    "        \n",
    "        current_codon = mapt_seq_exon10[start_codon_pos-1:start_codon_pos+2]\n",
    "        changed_codon = current_codon[0:pos_on_codon] + mut_val + current_codon[pos_on_codon+1:]\n",
    "        \n",
    "        if changed_codon in standard_table.stop_codons:\n",
    "            labels_for_mut.append([mut[0],mut[1],mut[2],mut[3],\"Stop codon\"])\n",
    "        \n",
    "        elif standard_table.forward_table[current_codon]==standard_table.forward_table[changed_codon]:\n",
    "            labels_for_mut.append([mut[0],mut[1],mut[2],mut[3],\"Synonymous\"])\n",
    "        else:\n",
    "            labels_for_mut.append([mut[0],mut[1],mut[2],mut[3],\"NonSynonymous\"])"
   ]
  },
  {
   "cell_type": "code",
   "execution_count": 50,
   "metadata": {},
   "outputs": [
    {
     "data": {
      "text/plain": [
       "['UAA', 'UAG', 'UGA']"
      ]
     },
     "execution_count": 50,
     "metadata": {},
     "output_type": "execute_result"
    }
   ],
   "source": [
    "standard_table.stop_codons"
   ]
  },
  {
   "cell_type": "code",
   "execution_count": null,
   "metadata": {},
   "outputs": [],
   "source": []
  }
 ],
 "metadata": {
  "kernelspec": {
   "display_name": "Python 3",
   "language": "python",
   "name": "python3"
  },
  "language_info": {
   "codemirror_mode": {
    "name": "ipython",
    "version": 3
   },
   "file_extension": ".py",
   "mimetype": "text/x-python",
   "name": "python",
   "nbconvert_exporter": "python",
   "pygments_lexer": "ipython3",
   "version": "3.6.9"
  }
 },
 "nbformat": 4,
 "nbformat_minor": 2
}
