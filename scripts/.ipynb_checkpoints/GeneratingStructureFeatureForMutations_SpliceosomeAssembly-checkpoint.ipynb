{
 "cells": [
  {
   "cell_type": "markdown",
   "metadata": {},
   "source": [
    "# Unfold different lengths of RNA in spliceosome in different stages of assembly"
   ]
  },
  {
   "cell_type": "markdown",
   "metadata": {},
   "source": [
    "## Structural Ensemble calculations"
   ]
  },
  {
   "cell_type": "markdown",
   "metadata": {},
   "source": [
    "### Unfold 2 exonic bases and 8 intronic bases for each sequence (WT and mutations) and calculate the difference in delta G -> from splicesome assembly model PreB complex 6QX9"
   ]
  },
  {
   "cell_type": "raw",
   "metadata": {},
   "source": [
    "# Invivo data\n",
    "python calculateDeltaGforUnfoldingCoordinatePair.py -f /home/jkumar/Projects/Model_MAPTsplicing/tmp/InvivoDMSdata_PooledRep_Exon10Intron10_Structures/ -t Muts -b StructuralEnsemble -r Unfold_LengthRNAinSpliceosome_PreBComplex_6qx9 -m ../data/MAPT_SingleMutations_TrainingSet.tsv -1 92 -2 101 -p Rsample -g MAPT -a Median -c 93\n",
    "# Exvivo data\n",
    "python calculateDeltaGforUnfoldingCoordinatePair.py -f /home/jkumar/Projects/Model_MAPTsplicing/tmp/ExvivoDMSdata_PooledRep_Exon10Intron10_Structures/ -t Muts -b StructuralEnsemble -r Unfold_LengthRNAinSpliceosome_PreBComplex_6qx9 -m ../data/MAPT_SingleMutations_TrainingSet.tsv -1 92 -2 101 -p Rsample -g MAPT -a Median -c 93\n",
    "# No data\n",
    "python calculateDeltaGforUnfoldingCoordinatePair.py -f /home/jkumar/Projects/Model_MAPTsplicing/tmp/NoDMSdata_PooledRep_Exon10Intron10_Structures/ -t Muts -b StructuralEnsemble -r Unfold_LengthRNAinSpliceosome_PreBComplex_6qx9 -m ../data/MAPT_SingleMutations_TrainingSet.tsv -1 92 -2 101 -p Partition -g MAPT -a Median -c 93"
   ]
  },
  {
   "cell_type": "markdown",
   "metadata": {},
   "source": [
    "### Unfold 10 exonic bases and 17 intronic bases for each sequence (WT and mutations) and calculate the difference in delta G -> from splicesome assembly model B complex 5o9z"
   ]
  },
  {
   "cell_type": "raw",
   "metadata": {},
   "source": [
    "# Invivo data\n",
    "python calculateDeltaGforUnfoldingCoordinatePair.py -f /home/jkumar/Projects/Model_MAPTsplicing/tmp/InvivoDMSdata_PooledRep_Exon10Intron10_Structures/ -t Muts -b StructuralEnsemble -r Unfold_LengthRNAinSpliceosome_BComplex_5o9z -m ../data/MAPT_SingleMutations_TrainingSet.tsv -1 84 -2 110 -p Rsample -g MAPT -a Median -c 93\n",
    "# Exvivo data\n",
    "python calculateDeltaGforUnfoldingCoordinatePair.py -f /home/jkumar/Projects/Model_MAPTsplicing/tmp/ExvivoDMSdata_PooledRep_Exon10Intron10_Structures/ -t Muts -b StructuralEnsemble -r Unfold_LengthRNAinSpliceosome_BComplex_5o9z -m ../data/MAPT_SingleMutations_TrainingSet.tsv -1 84 -2 110 -p Rsample -g MAPT -a Median -c 93\n",
    "# No data\n",
    "python calculateDeltaGforUnfoldingCoordinatePair.py -f /home/jkumar/Projects/Model_MAPTsplicing/tmp/NoDMSdata_PooledRep_Exon10Intron10_Structures/ -t Muts -b StructuralEnsemble -r Unfold_LengthRNAinSpliceosome_BComplex_5o9z -m ../data/MAPT_SingleMutations_TrainingSet.tsv -1 84 -2 110 -p Partition -g MAPT -a Median -c 93\n"
   ]
  },
  {
   "cell_type": "markdown",
   "metadata": {},
   "source": [
    "### Unfold 12 exonic bases and 23 intronic bases for each sequence (WT and mutations) and calculate the difference in delta G -> from splicesome assembly model B complex 6ahd"
   ]
  },
  {
   "cell_type": "raw",
   "metadata": {},
   "source": [
    "# Invivo data\n",
    "python calculateDeltaGforUnfoldingCoordinatePair.py -f /home/jkumar/Projects/Model_MAPTsplicing/tmp/InvivoDMSdata_PooledRep_Exon10Intron10_Structures/ -t Muts -b StructuralEnsemble -r Unfold_LengthRNAinSpliceosome_BComplex_6ahd -m ../data/MAPT_SingleMutations_TrainingSet.tsv -1 82 -2 116 -p Rsample -g MAPT -a Median -c 93\n",
    "# Exvivo data\n",
    "python calculateDeltaGforUnfoldingCoordinatePair.py -f /home/jkumar/Projects/Model_MAPTsplicing/tmp/ExvivoDMSdata_PooledRep_Exon10Intron10_Structures/ -t Muts -b StructuralEnsemble -r Unfold_LengthRNAinSpliceosome_BComplex_6ahd -m ../data/MAPT_SingleMutations_TrainingSet.tsv -1 82 -2 116 -p Rsample -g MAPT -a Median -c 93\n",
    "# No data\n",
    "python calculateDeltaGforUnfoldingCoordinatePair.py -f /home/jkumar/Projects/Model_MAPTsplicing/tmp/NoDMSdata_PooledRep_Exon10Intron10_Structures/ -t Muts -b StructuralEnsemble -r Unfold_LengthRNAinSpliceosome_BComplex_6ahd -m ../data/MAPT_SingleMutations_TrainingSet.tsv -1 82 -2 116 -p Partition -g MAPT -a Median -c 93\n"
   ]
  },
  {
   "cell_type": "markdown",
   "metadata": {},
   "source": [
    "### Unfold 9 exonic bases and 20 intronic bases for each sequence (WT and mutations) and calculate the difference in delta G -> from splicesome assembly model Pre-Bact complex 7abf"
   ]
  },
  {
   "cell_type": "raw",
   "metadata": {},
   "source": [
    "# Invivo data\n",
    "python calculateDeltaGforUnfoldingCoordinatePair.py -f /home/jkumar/Projects/Model_MAPTsplicing/tmp/InvivoDMSdata_PooledRep_Exon10Intron10_Structures/ -t Muts -b StructuralEnsemble -r Unfold_LengthRNAinSpliceosome_PreBactComplex_7abf -m ../data/MAPT_SingleMutations_TrainingSet.tsv -1 85 -2 113 -p Rsample -g MAPT -a Median -c 93\n",
    "# Exvivo data\n",
    "python calculateDeltaGforUnfoldingCoordinatePair.py -f /home/jkumar/Projects/Model_MAPTsplicing/tmp/ExvivoDMSdata_PooledRep_Exon10Intron10_Structures/ -t Muts -b StructuralEnsemble -r Unfold_LengthRNAinSpliceosome_PreBactComplex_7abf -m ../data/MAPT_SingleMutations_TrainingSet.tsv -1 85 -2 113 -p Rsample -g MAPT -a Median -c 93\n",
    "# No data\n",
    "python calculateDeltaGforUnfoldingCoordinatePair.py -f /home/jkumar/Projects/Model_MAPTsplicing/tmp/NoDMSdata_PooledRep_Exon10Intron10_Structures/ -t Muts -b StructuralEnsemble -r Unfold_LengthRNAinSpliceosome_PreBactComplex_7abf -m ../data/MAPT_SingleMutations_TrainingSet.tsv -1 85 -2 113 -p Partition -g MAPT -a Median -c 93\n"
   ]
  },
  {
   "cell_type": "markdown",
   "metadata": {},
   "source": [
    "### Unfold 10 exonic bases and 20 intronic bases for each sequence (WT and mutations) and calculate the difference in delta G -> from splicesome assembly model Bact complex 6ff4"
   ]
  },
  {
   "cell_type": "raw",
   "metadata": {},
   "source": [
    "# Invivo data\n",
    "python calculateDeltaGforUnfoldingCoordinatePair.py -f /home/jkumar/Projects/Model_MAPTsplicing/tmp/InvivoDMSdata_PooledRep_Exon10Intron10_Structures/ -t Muts -b StructuralEnsemble -r Unfold_LengthRNAinSpliceosome_BactComplex_6ff4 -m ../data/MAPT_SingleMutations_TrainingSet.tsv -1 84 -2 113 -p Rsample -g MAPT -a Median -c 93\n",
    "# Exvivo data\n",
    "python calculateDeltaGforUnfoldingCoordinatePair.py -f /home/jkumar/Projects/Model_MAPTsplicing/tmp/ExvivoDMSdata_PooledRep_Exon10Intron10_Structures/ -t Muts -b StructuralEnsemble -r Unfold_LengthRNAinSpliceosome_BactComplex_6ff4 -m ../data/MAPT_SingleMutations_TrainingSet.tsv -1 84 -2 113 -p Rsample -g MAPT -a Median -c 93\n",
    "# No data\n",
    "python calculateDeltaGforUnfoldingCoordinatePair.py -f /home/jkumar/Projects/Model_MAPTsplicing/tmp/NoDMSdata_PooledRep_Exon10Intron10_Structures/ -t Muts -b StructuralEnsemble -r Unfold_LengthRNAinSpliceosome_BactComplex_6ff4 -m ../data/MAPT_SingleMutations_TrainingSet.tsv -1 84 -2 113 -p Partition -g MAPT -a Median -c 93\n"
   ]
  },
  {
   "cell_type": "markdown",
   "metadata": {},
   "source": [
    "### Unfold 12 exonic bases and 31 intronic bases for each sequence (WT and mutations) and calculate the difference in delta G -> from splicesome assembly model Bact complex 5Z56"
   ]
  },
  {
   "cell_type": "raw",
   "metadata": {},
   "source": [
    "# Invivo data\n",
    "python calculateDeltaGforUnfoldingCoordinatePair.py -f /home/jkumar/Projects/Model_MAPTsplicing/tmp/InvivoDMSdata_PooledRep_Exon10Intron10_Structures/ -t Muts -b StructuralEnsemble -r Unfold_LengthRNAinSpliceosome_BactComplex_5z56 -m ../data/MAPT_SingleMutations_TrainingSet.tsv -1 82 -2 124 -p Rsample -g MAPT -a Median -c 93\n",
    "# Exvivo data\n",
    "python calculateDeltaGforUnfoldingCoordinatePair.py -f /home/jkumar/Projects/Model_MAPTsplicing/tmp/ExvivoDMSdata_PooledRep_Exon10Intron10_Structures/ -t Muts -b StructuralEnsemble -r Unfold_LengthRNAinSpliceosome_BactComplex_5z56 -m ../data/MAPT_SingleMutations_TrainingSet.tsv -1 82 -2 124 -p Rsample -g MAPT -a Median -c 93\n",
    "# No data\n",
    "python calculateDeltaGforUnfoldingCoordinatePair.py -f /home/jkumar/Projects/Model_MAPTsplicing/tmp/NoDMSdata_PooledRep_Exon10Intron10_Structures/ -t Muts -b StructuralEnsemble -r Unfold_LengthRNAinSpliceosome_BactComplex_5z56 -m ../data/MAPT_SingleMutations_TrainingSet.tsv -1 82 -2 124 -p Partition -g MAPT -a Median -c 93"
   ]
  }
 ],
 "metadata": {
  "kernelspec": {
   "display_name": "Python 3",
   "language": "python",
   "name": "python3"
  },
  "language_info": {
   "codemirror_mode": {
    "name": "ipython",
    "version": 3
   },
   "file_extension": ".py",
   "mimetype": "text/x-python",
   "name": "python",
   "nbconvert_exporter": "python",
   "pygments_lexer": "ipython3",
   "version": "3.6.9"
  }
 },
 "nbformat": 4,
 "nbformat_minor": 2
}
