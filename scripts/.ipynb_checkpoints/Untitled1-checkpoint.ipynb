{
 "cells": [
  {
   "cell_type": "code",
   "execution_count": 1,
   "metadata": {},
   "outputs": [],
   "source": [
    "import pandas as pd\n",
    "import os\n",
    "\n",
    "def getMotifScoresForSequence(seq,motifPWMfile):\n",
    "    #Open up motif PWM file, it should be arranged as rows positions and columns ACGTs\n",
    "    with open(motifPWMfile) as f:\n",
    "        pwm = [line.strip().split(\"\\t\") for line in f]\n",
    "    # So pwm is now a list of lists where each list is for each position and within each list \n",
    "    # are the values for A C G and T\n",
    "    \n",
    "    # Store length of motif\n",
    "    motif_length = len(pwm)\n",
    "    \n",
    "    # We create a dictionary where each key is a position of the motif and each value for key is \n",
    "    # another dictionary where the key is the nucleotide and the value is the score\n",
    "    pwm_dict = {}\n",
    "    for pos_num in range(motif_length):\n",
    "        ACTG_pos = pwm[pos_num]\n",
    "        pwm_dict[pos_num] = {}\n",
    "        pwm_dict[pos_num]['A'] = float(ACTG_pos[0])\n",
    "        pwm_dict[pos_num]['C'] = float(ACTG_pos[1])\n",
    "        pwm_dict[pos_num]['G'] = float(ACTG_pos[2])\n",
    "        pwm_dict[pos_num]['U'] = float(ACTG_pos[3])\n",
    "    \n",
    "    # List will contain coordinates and sequence and score \n",
    "    validmotifs = []\n",
    "    \n",
    "    # Now go through window of motif length through the given sequence and calculate a score \n",
    "    # If score above the threshold return that window\n",
    "    for j in range(0,len(seq)-motif_length+1):\n",
    "        seqToCheck = seq[j:j+motif_length]\n",
    "        score_seq = 0\n",
    "        for i in range(motif_length):\n",
    "            score_seq += pwm_dict[i][seqToCheck[i]]\n",
    "        #print score_seq\n",
    "        #if score_seq > threshold:\n",
    "        validmotifs.append([str(j),str(j+motif_length),seqToCheck,str(score_seq)])\n",
    "    \n",
    "    return(validmotifs)"
   ]
  },
  {
   "cell_type": "code",
   "execution_count": null,
   "metadata": {},
   "outputs": [],
   "source": [
    "with open(\"../tmp/MotifScores_Muts/\"+mutID+\"_MAPT_RBPs_MotifScores.tsv\",\"w\") as fw:\n",
    "        for filename in os.listdir(\"../data/Dominguez2018_MAPT_RBPs/\"):\n",
    "            if \".txt\" in filename:\n",
    "                motifs_for_PWM = getMotifScoresForSequence(seq,\"../data/Dominguez2018_MAPT_RBPs/\"+filename)\n",
    "                for m in motifs_for_PWM:\n",
    "                    fw.write(filename.split(\"_\")[0]+\"\\t\")\n",
    "                    fw.write(\"\\t\".join(m))\n",
    "                    fw.write(\"\\n\")"
   ]
  }
 ],
 "metadata": {
  "kernelspec": {
   "display_name": "Python 3",
   "language": "python",
   "name": "python3"
  },
  "language_info": {
   "codemirror_mode": {
    "name": "ipython",
    "version": 3
   },
   "file_extension": ".py",
   "mimetype": "text/x-python",
   "name": "python",
   "nbconvert_exporter": "python",
   "pygments_lexer": "ipython3",
   "version": "3.6.9"
  }
 },
 "nbformat": 4,
 "nbformat_minor": 2
}
